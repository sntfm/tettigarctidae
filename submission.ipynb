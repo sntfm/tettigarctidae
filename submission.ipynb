{
 "cells": [
  {
   "cell_type": "code",
   "execution_count": 2,
   "metadata": {},
   "outputs": [
    {
     "name": "stdout",
     "output_type": "stream",
     "text": [
      "####################################################################\n",
      "# FINANCEPY BETA Version 0.310 - This build:  25 Aug 2023 at 16:17 #\n",
      "#     This software is distributed FREE AND WITHOUT ANY WARRANTY   #\n",
      "#  Report bugs as issues at https://github.com/domokane/FinancePy  #\n",
      "####################################################################\n",
      "\n"
     ]
    }
   ],
   "source": [
    "import numpy as np\n",
    "from scipy.optimize import minimize\n",
    "from scipy.stats import norm\n",
    "import mtalg\n",
    "from financepy.utils.math import N, n_vect"
   ]
  },
  {
   "cell_type": "markdown",
   "metadata": {},
   "source": [
    "## Задача 1 ##\n",
    "\n",
    "### Постановка задачи\n",
    "$\n",
    "\\text{Даны X и Y - cлучайные величины с нормальным распределением: } X \\sim \\mathcal{N}(e_1, q_1^2) \\text{ и } Y \\sim \\mathcal{N}(e_2, q_2^2) \\text{, где corr}(X, Y) = p.\n",
    "$\n",
    "$\n",
    "\\text{Необходимо найти такие константы a и b, минимизирующие } \\text{Var}[S] \\text{, где } S = aX + bY \\text{, такие что } a + b = 1, 0 \\leq a \\leq 1, 0 \\leq b \\leq 1\n",
    "$\n",
    "\n",
    "### Аналитическое решение\n",
    "$\\text{По условию, } \\text{cov}(X,Y) = p q_1 q_2 \\\\$\n",
    "$\\text{Воспользуемся свойствами дисперсии и сформулируем задачу формально: } \\\\ \\text{Min } \\text{Var}[S] = a^2 q_1^2 + b^2 q_2^2 + 2abpq_1q_2 \\\\ \\text{при ограничениях: } a + b = 1, 0 \\leq a \\leq 1, 0 \\leq b \\leq 1 \\\\$\n",
    "\n",
    "$\\text{Это задача квадратичного программирования c ограничениями. }$\n",
    "$\\text{В общем случае, такие задачи не имеют аналитического решения.}$ $\\text{Попробуем исследовать частное решение, применив метод множителей Лагранжа: } \\\\ $\n",
    "\n",
    "$  \\text{Создадим функцию Лангража: }L(a, b, \\lambda) = a^2 q_1^2 + b^2 q_2^2 + 2abpq_1q_2 + \\lambda(1 - a - b)$\n",
    "\n",
    "$ \\text{Найдем частные производные для } a, b, \\lambda\\ \\text{ и приравняем их к нулю:} \\\\$\n",
    "$ \\frac{\\partial L}{\\partial a} = 2aq_1^2 + 2bpq_1q_2 - \\lambda = 0 \\\\ $\n",
    "$ \\frac{\\partial L}{\\partial b} = 2bq_2^2 + 2apq_1q_2 - \\lambda = 0 \\\\ $\n",
    "$ \\frac{\\partial L}{\\partial \\lambda} = 1 - a - b = 0 $\n",
    "$\\text{} \\\\$\n",
    "$\\text{Решив эту систему уравнений относительно a и b,}$\n",
    "$\\text{мы получим аналитическое решение. Выразим a и b через } \\lambda \\text{:}\\\\$\n",
    "$ a = \\frac{\\lambda - 2bpq_1q_2}{2q_1^2} \\\\$\n",
    "$ b = \\frac{\\lambda - 2apq_1q_2}{2q_2^2} \\\\$\n",
    "$\\text{Таким образом, параметры a и b не выражаются в явном виде через }\\lambda$\n",
    "$\\text{и демонстрируют сложную нелинейную зависимость.}$ \n",
    "$\\text{Дальнейшее аналитическое исследование задачи не целесообразно.}$\n",
    "\n",
    "\n",
    "\n",
    "\n",
    "### Численное решение"
   ]
  },
  {
   "cell_type": "code",
   "execution_count": 3,
   "metadata": {},
   "outputs": [
    {
     "name": "stdout",
     "output_type": "stream",
     "text": [
      "_w1: 0.75, _w2: 0.25, _minVar[S]: 0.625\n"
     ]
    }
   ],
   "source": [
    "q1= 1\n",
    "q2= 2\n",
    "p = -0.25\n",
    "\n",
    "# Целевая функция\n",
    "def objective(x):\n",
    "    a, b = x\n",
    "    return a**2 * q1**2 + b**2 * q2**2 + 2 * a * b * p * q1 * q2\n",
    "\n",
    "# Ограничения\n",
    "constraints = ({'type': 'eq', 'fun': lambda x: x[0] + x[1] - 1},\n",
    "               {'type': 'ineq', 'fun': lambda x: x[0]},\n",
    "               {'type': 'ineq', 'fun': lambda x: x[1]})\n",
    "\n",
    "x0 = [0.5, 0.5]\n",
    "result = minimize(objective, x0, constraints=constraints)\n",
    "opt_a, opt_b = result.x\n",
    "print(f'_w1: {round(opt_a,4)}, _w2: {round(opt_b,4)}, _minVar[S]: {result.fun}')\n"
   ]
  },
  {
   "cell_type": "markdown",
   "metadata": {},
   "source": [
    "## Задача 2 ##\n",
    "\n",
    "Напишите алгоритм монте карло для симуляции цены\n",
    "Используйте сгенерированные цены для нумерической оценки опционов используя Delta Hedging на каждом шаге цены (игнорируя комиссию)\n",
    "\n",
    "Параметры Опциона Для оценки :\n",
    "Strike = 1000\n",
    "Implied Volatility = 0.3\n",
    "Time to Expiration = Half a Year\n",
    "interest rate = 0\n",
    "\n",
    "Параметры для Монте Карло\n",
    "Start Spot price = 1000\n",
    "Realised Volatility = 0.2\n",
    "Number of Paths = 50000\n",
    "Number of Steps = N days untill the expiration\n",
    "\n",
    "Напишите алгоритм нумерической апроксимации PNL данного опциона на момент экспирации. \n",
    "Финальное решение включающее в себя генерирование всех путей и оценку PNLa должно находиться в одном cell-e. На вывод должен быть принт финального пнла и тайминг экзекьюшена всего решения."
   ]
  },
  {
   "cell_type": "code",
   "execution_count": 30,
   "metadata": {},
   "outputs": [
    {
     "name": "stdout",
     "output_type": "stream",
     "text": [
      "PnL Approximation: 526.89 ± 472.52\n",
      "PnL Approximation: 526.76 ± 472.44\n",
      "PnL Approximation: 530.41 ± 472.83\n",
      "PnL Approximation: 527.42 ± 472.61\n",
      "PnL Approximation: 527.3 ± 472.24\n",
      "PnL Approximation: 526.56 ± 472.31\n",
      "PnL Approximation: 528.76 ± 472.87\n",
      "PnL Approximation: 534.17 ± 473.19\n",
      "607 ms ± 59.4 ms per loop (mean ± std. dev. of 7 runs, 1 loop each)\n"
     ]
    }
   ],
   "source": [
    "%%timeit\n",
    "strike = 1000\n",
    "ImpVol = 0.3\n",
    "expiry = 0.5\n",
    "rate = 0\n",
    "\n",
    "spot = 1000\n",
    "RealVol = 0.2\n",
    "n_paths = 50000\n",
    "\n",
    "def gbm(mu=0, rv=1, sims= 50000, T= 0.5, S0= 1000, cal=360):\n",
    "    sims= int(sims)\n",
    "    steps= int(cal * T)\n",
    "    dt= T/steps\n",
    "    St= np.exp((mu - 0.5 * rv ** 2) * dt + \n",
    "               rv * np.sqrt(dt) * mtalg.random.standard_normal(size=(sims, steps-1)).T)\n",
    "\n",
    "    St = np.vstack([np.ones(sims), St])\n",
    "    St = S0 * St.T.cumprod(axis=1)\n",
    "\n",
    "    return St\n",
    "\n",
    "def deltaGK(opt, S, K, iv, tau, sims, cal=360, rf=0, rd=0):\n",
    "    steps= int(tau*cal)\n",
    "    tau=np.linspace(start= 0, stop= tau, num=steps+1)[::-1][0:steps]\n",
    "    tau=np.tile(tau, reps= sims).reshape(sims,steps)\n",
    "    d1 = (np.log(S/K) + (rd - rf + (iv**2)/2)*tau)/(iv*np.sqrt(tau))\n",
    "    delta= n_vect(d1)\n",
    "    \n",
    "    if opt == 'call':\n",
    "        deltaCall= delta\n",
    "        return deltaCall\n",
    "    elif opt == 'put':\n",
    "        deltaPut= delta - 1\n",
    "        return deltaPut\n",
    "\n",
    "def deltaHedge(cal=360):\n",
    "    St= gbm(mu=0, rv=RealVol, sims= n_paths, T= expiry, S0= spot, cal=cal)\n",
    "\n",
    "    deltas= deltaGK('call', S=St, K=strike, iv= ImpVol, sims=n_paths, \\\n",
    "        tau=expiry, rd=rate)\n",
    "\n",
    "    dh_incr= np.diff(deltas)\n",
    "    dh= np.vstack([deltas.T[0], dh_incr.T])\n",
    "    dh= dh.T\n",
    "    pnl_apx= np.sum((dh*St), axis=1)\n",
    "    # return pnl_apx\n",
    "\n",
    "    print(f'PnL Approximation: {round(np.mean(pnl_apx),2)} ± {round(np.std(pnl_apx),2)}')\n",
    "\n",
    "deltaHedge()"
   ]
  },
  {
   "cell_type": "markdown",
   "metadata": {},
   "source": [
    "## Задача 3 ##\n",
    "\n",
    "Даны случайные величины с нормальным распределением : X~N(mu,s), mu= 0 , s - ?\n",
    "случайные величины эквивалентны дневному приросту цены.\n",
    "Среднее абсолютное отклонение (Mean Average Deviation) (X) = 1%\n",
    "чему равен s в годовом эквиваленте если мы закладываем 252 дня в году?\n"
   ]
  },
  {
   "cell_type": "code",
   "execution_count": 7,
   "metadata": {},
   "outputs": [
    {
     "name": "stdout",
     "output_type": "stream",
     "text": [
      "6.375700398406376\n"
     ]
    }
   ],
   "source": [
    "def extractAnnualVar(mad=0.01, cal=252):\n",
    "    centeredSumX= mad*cal\n",
    "    dailyVar= centeredSumX**2/(cal-1)\n",
    "    annualisedVar= dailyVar*cal\n",
    "    return annualisedVar\n",
    "\n",
    "print(extractAnnualVar())"
   ]
  }
 ],
 "metadata": {
  "kernelspec": {
   "display_name": "Python 3",
   "language": "python",
   "name": "python3"
  },
  "language_info": {
   "codemirror_mode": {
    "name": "ipython",
    "version": 3
   },
   "file_extension": ".py",
   "mimetype": "text/x-python",
   "name": "python",
   "nbconvert_exporter": "python",
   "pygments_lexer": "ipython3",
   "version": "3.9.6"
  },
  "orig_nbformat": 4
 },
 "nbformat": 4,
 "nbformat_minor": 2
}
